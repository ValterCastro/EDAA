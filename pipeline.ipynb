{
 "cells": [
  {
   "cell_type": "code",
   "execution_count": null,
   "metadata": {},
   "outputs": [],
   "source": [
    "# This Python 3 environment comes with many helpful analytics libraries installed\n",
    "# It is defined by the kaggle/python Docker image: https://github.com/kaggle/docker-python\n",
    "# For example, here's several helpful packages to load\n",
    "\n",
    "import numpy as np # linear algebra\n",
    "import pandas as pd # data processing, CSV file I/O (e.g. pd.read_csv)\n",
    "\n",
    "# Input data files are available in the read-only \"../input/\" directory\n",
    "# For example, running this (by clicking run or pressing Shift+Enter) will list all files under the input directory\n",
    "\n",
    "import os\n",
    "for dirname, _, filenames in os.walk('./input'):\n",
    "    for filename in filenames:\n",
    "        print(os.path.join(dirname, filename))\n",
    "\n",
    "# You can write up to 20GB to the current directory (/kaggle/working/) that gets preserved as output when you create a version using \"Save & Run All\" \n",
    "# You can also write temporary files to /kaggle/temp/, but they won't be saved outside of the current session"
   ]
  },
  {
   "cell_type": "code",
   "execution_count": null,
   "metadata": {},
   "outputs": [],
   "source": [
    "import pandas as pd\n",
    "\n",
    "# Load the dataset\n",
    "df = pd.read_csv('./input/spam.csv', encoding='latin-1')[['v1', 'v2']]\n",
    "df.columns = ['label', 'text']\n",
    "print(df.head())\n"
   ]
  },
  {
   "cell_type": "code",
   "execution_count": null,
   "metadata": {},
   "outputs": [],
   "source": [
    "from sklearn.preprocessing import LabelEncoder\n",
    "\n",
    "# Convert 'ham' to 0 and 'spam' to 1\n",
    "le = LabelEncoder()\n",
    "df['label'] = le.fit_transform(df['label'])  # ham=0, spam=1\n"
   ]
  },
  {
   "cell_type": "code",
   "execution_count": null,
   "metadata": {},
   "outputs": [],
   "source": [
    "import re\n",
    "import string\n",
    "from nltk.corpus import stopwords\n",
    "from nltk.stem import PorterStemmer\n",
    "import nltk\n",
    "nltk.download('stopwords')\n",
    "\n",
    "def clean_text(text):\n",
    "    # Lowercase\n",
    "    text = text.lower()\n",
    "    # Remove punctuation\n",
    "    text = text.translate(str.maketrans('', '', string.punctuation))\n",
    "    # Remove numbers\n",
    "    text = re.sub(r'\\d+', '', text)\n",
    "    # Remove stopwords\n",
    "    stop_words = set(stopwords.words('english'))\n",
    "    words = text.split()\n",
    "    words = [w for w in words if w not in stop_words]\n",
    "    # Stemming\n",
    "    stemmer = PorterStemmer()\n",
    "    words = [stemmer.stem(w) for w in words]\n",
    "    return ' '.join(words)\n",
    "\n",
    "# Create cleaned version\n",
    "df['clean_text'] = df['text'].apply(clean_text)\n"
   ]
  },
  {
   "cell_type": "code",
   "execution_count": null,
   "metadata": {},
   "outputs": [],
   "source": [
    "from sklearn.model_selection import train_test_split\n",
    "\n",
    "X_raw = df['text']\n",
    "X_clean = df['clean_text']\n",
    "y = df['label']\n",
    "\n",
    "# Split both raw and clean\n",
    "X_train_raw, X_test_raw, y_train, y_test = train_test_split(X_raw, y, test_size=0.2, random_state=42)\n",
    "X_train_clean, X_test_clean, _, _ = train_test_split(X_clean, y, test_size=0.2, random_state=42)\n"
   ]
  },
  {
   "cell_type": "code",
   "execution_count": null,
   "metadata": {},
   "outputs": [],
   "source": [
    "from sklearn.feature_extraction.text import CountVectorizer, TfidfVectorizer\n",
    "\n",
    "# Initialize vectorizers\n",
    "bow_vectorizer = CountVectorizer()\n",
    "tfidf_vectorizer = TfidfVectorizer()\n",
    "\n",
    "# --- Bag of Words ---\n",
    "X_train_bow_raw = bow_vectorizer.fit_transform(X_train_raw)\n",
    "X_test_bow_raw = bow_vectorizer.transform(X_test_raw)\n",
    "\n",
    "X_train_bow_clean = bow_vectorizer.fit_transform(X_train_clean)\n",
    "X_test_bow_clean = bow_vectorizer.transform(X_test_clean)\n",
    "\n",
    "# --- TF-IDF ---\n",
    "X_train_tfidf_raw = tfidf_vectorizer.fit_transform(X_train_raw)\n",
    "X_test_tfidf_raw = tfidf_vectorizer.transform(X_test_raw)\n",
    "\n",
    "X_train_tfidf_clean = tfidf_vectorizer.fit_transform(X_train_clean)\n",
    "X_test_tfidf_clean = tfidf_vectorizer.transform(X_test_clean)\n"
   ]
  },
  {
   "cell_type": "code",
   "execution_count": null,
   "metadata": {},
   "outputs": [],
   "source": [
    "from sklearn.naive_bayes import MultinomialNB\n",
    "from sklearn.ensemble import RandomForestClassifier\n",
    "from sklearn.neighbors import KNeighborsClassifier\n",
    "from xgboost import XGBClassifier\n",
    "from sklearn.metrics import classification_report, accuracy_score\n",
    "\n",
    "def train_models(X_train, X_test, y_train, y_test, label=\"\"):\n",
    "    print(f\"\\n--- {label} ---\")\n",
    "    \n",
    "    # Naive Bayes\n",
    "    nb = MultinomialNB()\n",
    "    nb.fit(X_train, y_train)\n",
    "    pred_nb = nb.predict(X_test)\n",
    "    print(\"\\nNaive Bayes:\")\n",
    "    print(classification_report(y_test, pred_nb))\n",
    "\n",
    "    # Random Forest\n",
    "    rf = RandomForestClassifier(n_estimators=100, random_state=42)\n",
    "    rf.fit(X_train, y_train)\n",
    "    pred_rf = rf.predict(X_test)\n",
    "    print(\"\\nRandom Forest:\")\n",
    "    print(classification_report(y_test, pred_rf))\n",
    "\n",
    "    # XGBoost\n",
    "    xgb = XGBClassifier(use_label_encoder=False, eval_metric='logloss')\n",
    "    xgb.fit(X_train, y_train)\n",
    "    pred_xgb = xgb.predict(X_test)\n",
    "    print(\"\\nXGBoost:\")\n",
    "    print(classification_report(y_test, pred_xgb))\n",
    "    \n",
    "    # Add KNN\n",
    "    #knn = KNeighborsClassifier(n_neighbors=5, metric='cosine')\n",
    "    knn = KNeighborsClassifier(n_neighbors=5)\n",
    "    knn.fit(X_train, y_train)\n",
    "    pred_knn = knn.predict(X_test)\n",
    "    print(\"\\nK-Nearest Neighbors:\")\n",
    "    print(classification_report(y_test, pred_knn))\n"
   ]
  },
  {
   "cell_type": "code",
   "execution_count": null,
   "metadata": {},
   "outputs": [],
   "source": [
    "# BoW + Raw\n",
    "train_models(X_train_bow_raw, X_test_bow_raw, y_train, y_test, label=\"BoW + Raw\")\n",
    "\n",
    "# BoW + Clean\n",
    "train_models(X_train_bow_clean, X_test_bow_clean, y_train, y_test, label=\"BoW + Clean\")\n",
    "\n",
    "# TF-IDF + Raw\n",
    "train_models(X_train_tfidf_raw, X_test_tfidf_raw, y_train, y_test, label=\"TF-IDF + Raw\")\n",
    "\n",
    "# TF-IDF + Clean\n",
    "train_models(X_train_tfidf_clean, X_test_tfidf_clean, y_train, y_test, label=\"TF-IDF + Clean\")\n"
   ]
  },
  {
   "cell_type": "code",
   "execution_count": null,
   "metadata": {},
   "outputs": [],
   "source": [
    "from sklearn.ensemble import VotingClassifier\n",
    "\n",
    "def train_ensemble(X_train, X_test, y_train, y_test, label=\"\"):\n",
    "    print(f\"\\n--- Ensemble: {label} ---\")\n",
    "    ensemble = VotingClassifier(estimators=[\n",
    "        ('nb', MultinomialNB()),\n",
    "        ('rf', RandomForestClassifier(n_estimators=100, random_state=42)),\n",
    "        ('xgb', XGBClassifier(use_label_encoder=False, eval_metric='logloss'))\n",
    "    ], voting='soft')\n",
    "\n",
    "    ensemble.fit(X_train, y_train)\n",
    "    pred = ensemble.predict(X_test)\n",
    "    print(classification_report(y_test, pred))\n",
    "\n",
    "# Try ensemble on TF-IDF + Clean (best setup typically)\n",
    "train_ensemble(X_train_tfidf_clean, X_test_tfidf_clean, y_train, y_test, label=\"TF-IDF + Clean\")\n"
   ]
  },
  {
   "cell_type": "code",
   "execution_count": null,
   "metadata": {},
   "outputs": [],
   "source": [
    "import matplotlib.pyplot as plt\n",
    "\n",
    "# Dummy example\n",
    "models = ['NB-BOW', 'RF-BOW', 'XGB-BOW', 'NB-TFIDF', 'RF-TFIDF', 'XGB-TFIDF']\n",
    "accuracies = [0.97, 0.98, 0.99, 0.985, 0.989, 0.993]\n",
    "\n",
    "plt.figure(figsize=(10,5))\n",
    "plt.bar(models, accuracies)\n",
    "plt.ylabel('Accuracy')\n",
    "plt.title('Model Performance Comparison')\n",
    "plt.ylim(0.9, 1.0)\n",
    "plt.xticks(rotation=45)\n",
    "plt.show()\n"
   ]
  }
 ],
 "metadata": {
  "kernelspec": {
   "display_name": ".venv",
   "language": "python",
   "name": "python3"
  },
  "language_info": {
   "codemirror_mode": {
    "name": "ipython",
    "version": 3
   },
   "file_extension": ".py",
   "mimetype": "text/x-python",
   "name": "python",
   "nbconvert_exporter": "python",
   "pygments_lexer": "ipython3",
   "version": "3.10.14"
  }
 },
 "nbformat": 4,
 "nbformat_minor": 2
}
